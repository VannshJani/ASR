{
 "cells": [
  {
   "cell_type": "markdown",
   "metadata": {},
   "source": [
    "# Automatic Speech Recognition using Whisper"
   ]
  },
  {
   "cell_type": "markdown",
   "metadata": {},
   "source": [
    "### Importing necessary libraries"
   ]
  },
  {
   "cell_type": "code",
   "execution_count": 1,
   "metadata": {},
   "outputs": [],
   "source": [
    "import os\n",
    "import numpy as np\n",
    "import torch\n",
    "from torch.utils.data import Dataset, DataLoader\n",
    "from torch.utils.data import TensorDataset\n",
    "import pandas as pd\n",
    "import whisper\n",
    "import torchaudio\n",
    "from tqdm.notebook import tqdm,trange\n",
    "import wavfile\n",
    "import io\n",
    "import jiwer"
   ]
  },
  {
   "cell_type": "code",
   "execution_count": 2,
   "metadata": {},
   "outputs": [
    {
     "data": {
      "text/plain": [
       "device(type='cpu')"
      ]
     },
     "execution_count": 2,
     "metadata": {},
     "output_type": "execute_result"
    }
   ],
   "source": [
    "device = torch.device(\"cuda\" if torch.cuda.is_available() else \"cpu\")\n",
    "device"
   ]
  },
  {
   "cell_type": "markdown",
   "metadata": {},
   "source": [
    "### Data Preprocessing"
   ]
  },
  {
   "cell_type": "code",
   "execution_count": null,
   "metadata": {},
   "outputs": [],
   "source": [
    "test_path = \"/Users/vannshjani/Downloads/kathbath/hindi/test/\"\n",
    "test_known_path = \"/Users/vannshjani/Downloads/kathbath/hindi/test_known/\"\n",
    "folder_test = os.listdir(test_path)\n",
    "folder_test_known = os.listdir(test_known_path)\n",
    "print(folder_test), print(folder_test_known)"
   ]
  },
  {
   "cell_type": "code",
   "execution_count": null,
   "metadata": {},
   "outputs": [],
   "source": [
    "audio_files = folder_test[2]\n",
    "transcript_files = folder_test[3]\n"
   ]
  },
  {
   "cell_type": "code",
   "execution_count": null,
   "metadata": {},
   "outputs": [],
   "source": [
    "transcript_dict = {}\n",
    "with open(os.path.join(test_path,'transcription.txt'), 'r') as file:\n",
    "    transcript = file.readlines()\n",
    "    for i in range(len(transcript)):\n",
    "        audio_file_name,text = transcript[i].split(\".\")\n",
    "        text = text.split(\"\\t\")[1]\n",
    "        text = text.split(\"\\n\")[0]\n",
    "        transcript_dict[audio_file_name] = text\n"
   ]
  },
  {
   "cell_type": "code",
   "execution_count": null,
   "metadata": {},
   "outputs": [],
   "source": [
    "len(transcript_dict)"
   ]
  },
  {
   "cell_type": "code",
   "execution_count": null,
   "metadata": {},
   "outputs": [],
   "source": [
    "audio_folder_path = os.path.join(test_path,audio_files)\n",
    "audio_folder = os.listdir(audio_folder_path)\n",
    "print(audio_folder)"
   ]
  },
  {
   "cell_type": "code",
   "execution_count": null,
   "metadata": {},
   "outputs": [],
   "source": [
    "all_auido_files = []\n",
    "for sub_fold in audio_folder:\n",
    "    if sub_fold != \".DS_Store\":\n",
    "        audio_file_path = os.path.join(audio_folder_path,sub_fold)\n",
    "        # print(audio_folder_path)\n",
    "        sub_folder_files = os.listdir(audio_file_path)\n",
    "        all_auido_files.extend(sub_folder_files)\n",
    "\n",
    "print(len(all_auido_files))"
   ]
  },
  {
   "cell_type": "code",
   "execution_count": null,
   "metadata": {},
   "outputs": [],
   "source": [
    "transcript = []\n",
    "for audio_file in all_auido_files:\n",
    "    audio_file_name = audio_file.split(\".\")[0]\n",
    "    text = transcript_dict[audio_file_name]\n",
    "    transcript.append(text)\n",
    "\n",
    "len(transcript)"
   ]
  },
  {
   "cell_type": "code",
   "execution_count": null,
   "metadata": {},
   "outputs": [],
   "source": [
    "# creating a dataframe\n",
    "df = pd.DataFrame(list(zip(all_auido_files, transcript)), columns=['audio', 'transcript'])\n",
    "df.head()"
   ]
  },
  {
   "cell_type": "code",
   "execution_count": null,
   "metadata": {},
   "outputs": [],
   "source": [
    "df.to_csv(\"test_asr.csv\", index=False)"
   ]
  },
  {
   "cell_type": "code",
   "execution_count": null,
   "metadata": {},
   "outputs": [],
   "source": [
    "class KathbathDataset(Dataset):\n",
    "    def __init__(self, df, audio_folder_path, sr=16000):\n",
    "        self.df = df\n",
    "        self.audio_folder_path = audio_folder_path\n",
    "        self.sr = sr\n",
    "\n",
    "    def __len__(self):\n",
    "        return len(self.df)\n",
    "\n",
    "    def __getitem__(self, idx):\n",
    "        audio_file = self.df.iloc[idx, 0]\n",
    "        transcript = self.df.iloc[idx, 1]\n",
    "        # Set sample rate to 16k\n",
    "        # audio = wavfile.read(io.BytesIO(audio_file))[1]\n",
    "        # audio = torch.from_numpy(audio).float()\n",
    "        # mel = whisper.audio.log_mel_spectrogram(audio)\n",
    "\n",
    "        return audio_file, transcript"
   ]
  },
  {
   "cell_type": "code",
   "execution_count": null,
   "metadata": {},
   "outputs": [],
   "source": [
    "audio_file_path_new = \"/Users/vannshjani/Downloads/kathbath/hindi/test/audio_files/\"\n",
    "print(audio_file_path_new)"
   ]
  },
  {
   "cell_type": "code",
   "execution_count": null,
   "metadata": {},
   "outputs": [],
   "source": [
    "dataset = KathbathDataset(df, audio_file_path_new)\n",
    "dataloader = DataLoader(dataset, batch_size=16)"
   ]
  },
  {
   "cell_type": "code",
   "execution_count": null,
   "metadata": {},
   "outputs": [],
   "source": [
    "dataset[0]"
   ]
  },
  {
   "cell_type": "code",
   "execution_count": null,
   "metadata": {},
   "outputs": [],
   "source": [
    "model = whisper.load_model(\"medium\")\n",
    "print(model.is_multilingual)"
   ]
  },
  {
   "cell_type": "code",
   "execution_count": null,
   "metadata": {},
   "outputs": [],
   "source": [
    "references = []\n",
    "transcriptions = []\n",
    "translations = []\n",
    "\n",
    "for audio, text in tqdm(dataset):\n",
    "    path = os.path.join(audio_file_path_new,audio)\n",
    "    transcription = model.transcribe(path, fp16=False)[\"text\"]\n",
    "    # translation = model.transcribe(path, **translate_options)[\"text\"]\n",
    "    \n",
    "    transcriptions.append(transcription)\n",
    "    # translations.append(translation)\n",
    "    references.append(text)"
   ]
  },
  {
   "cell_type": "code",
   "execution_count": null,
   "metadata": {},
   "outputs": [],
   "source": [
    "data = pd.DataFrame(dict(reference=references, transcription=transcriptions))\n",
    "data"
   ]
  },
  {
   "cell_type": "code",
   "execution_count": null,
   "metadata": {},
   "outputs": [],
   "source": [
    "data.to_csv(\"test_asr_results.csv\", index=False)"
   ]
  },
  {
   "cell_type": "code",
   "execution_count": 4,
   "metadata": {},
   "outputs": [
    {
     "data": {
      "text/html": [
       "<div>\n",
       "<style scoped>\n",
       "    .dataframe tbody tr th:only-of-type {\n",
       "        vertical-align: middle;\n",
       "    }\n",
       "\n",
       "    .dataframe tbody tr th {\n",
       "        vertical-align: top;\n",
       "    }\n",
       "\n",
       "    .dataframe thead th {\n",
       "        text-align: right;\n",
       "    }\n",
       "</style>\n",
       "<table border=\"1\" class=\"dataframe\">\n",
       "  <thead>\n",
       "    <tr style=\"text-align: right;\">\n",
       "      <th></th>\n",
       "      <th>reference</th>\n",
       "      <th>transcription</th>\n",
       "    </tr>\n",
       "  </thead>\n",
       "  <tbody>\n",
       "    <tr>\n",
       "      <th>0</th>\n",
       "      <td>हालांकि प्यार मोहब्बत के मामले में आपको जल्दबा...</td>\n",
       "      <td>हाला के प्यार महवबत के मामले में आपको जल्दवाज...</td>\n",
       "    </tr>\n",
       "    <tr>\n",
       "      <th>1</th>\n",
       "      <td>जिसके चलते बाजार भी गिफ्ट सेंटरों से सजे हैं।</td>\n",
       "      <td>जिसके चलते पाजार भी गिफ्ट सेंटरों से सजे हैं।</td>\n",
       "    </tr>\n",
       "    <tr>\n",
       "      <th>2</th>\n",
       "      <td>हालांकि कारोबारियों के पास ऑनलाइन एडवांस टैक्स...</td>\n",
       "      <td>हाला कि कारोबारीयों के पास आउनलाइन एडवान्स टै...</td>\n",
       "    </tr>\n",
       "    <tr>\n",
       "      <th>3</th>\n",
       "      <td>उनका पालन करते हुए नाकों पर ट्रैफिक पुलिस अब म...</td>\n",
       "      <td>उनका पालन करते हुए नाकों पर ट्रैफिक पॉलेस अप ...</td>\n",
       "    </tr>\n",
       "    <tr>\n",
       "      <th>4</th>\n",
       "      <td>आपकी आर्थिक स्थिति मजबूत बनी रहेगी और आप निवेश...</td>\n",
       "      <td>आपकी आर्थिक इस्तिति मजबूत बनी रहे की और आप नि...</td>\n",
       "    </tr>\n",
       "  </tbody>\n",
       "</table>\n",
       "</div>"
      ],
      "text/plain": [
       "                                           reference  \\\n",
       "0  हालांकि प्यार मोहब्बत के मामले में आपको जल्दबा...   \n",
       "1      जिसके चलते बाजार भी गिफ्ट सेंटरों से सजे हैं।   \n",
       "2  हालांकि कारोबारियों के पास ऑनलाइन एडवांस टैक्स...   \n",
       "3  उनका पालन करते हुए नाकों पर ट्रैफिक पुलिस अब म...   \n",
       "4  आपकी आर्थिक स्थिति मजबूत बनी रहेगी और आप निवेश...   \n",
       "\n",
       "                                       transcription  \n",
       "0   हाला के प्यार महवबत के मामले में आपको जल्दवाज...  \n",
       "1      जिसके चलते पाजार भी गिफ्ट सेंटरों से सजे हैं।  \n",
       "2   हाला कि कारोबारीयों के पास आउनलाइन एडवान्स टै...  \n",
       "3   उनका पालन करते हुए नाकों पर ट्रैफिक पॉलेस अप ...  \n",
       "4   आपकी आर्थिक इस्तिति मजबूत बनी रहे की और आप नि...  "
      ]
     },
     "execution_count": 4,
     "metadata": {},
     "output_type": "execute_result"
    }
   ],
   "source": [
    "results = pd.read_csv(\"test_asr_results.csv\")\n",
    "results.head()"
   ]
  },
  {
   "cell_type": "markdown",
   "metadata": {},
   "source": [
    "### Calculating Word Error Rate (WER)"
   ]
  },
  {
   "cell_type": "code",
   "execution_count": 5,
   "metadata": {},
   "outputs": [
    {
     "data": {
      "text/plain": [
       "(1929, 1929)"
      ]
     },
     "execution_count": 5,
     "metadata": {},
     "output_type": "execute_result"
    }
   ],
   "source": [
    "ref_list = results['reference'].tolist()\n",
    "hyp_list = results['transcription'].tolist()\n",
    "len(ref_list), len(hyp_list)"
   ]
  },
  {
   "cell_type": "code",
   "execution_count": 6,
   "metadata": {},
   "outputs": [
    {
     "data": {
      "text/plain": [
       "0.5181074508069865"
      ]
     },
     "execution_count": 6,
     "metadata": {},
     "output_type": "execute_result"
    }
   ],
   "source": [
    "error = jiwer.wer(ref_list, hyp_list)\n",
    "error"
   ]
  },
  {
   "cell_type": "code",
   "execution_count": null,
   "metadata": {},
   "outputs": [],
   "source": []
  }
 ],
 "metadata": {
  "kernelspec": {
   "display_name": "Python 3",
   "language": "python",
   "name": "python3"
  },
  "language_info": {
   "codemirror_mode": {
    "name": "ipython",
    "version": 3
   },
   "file_extension": ".py",
   "mimetype": "text/x-python",
   "name": "python",
   "nbconvert_exporter": "python",
   "pygments_lexer": "ipython3",
   "version": "3.11.4"
  },
  "orig_nbformat": 4
 },
 "nbformat": 4,
 "nbformat_minor": 2
}
